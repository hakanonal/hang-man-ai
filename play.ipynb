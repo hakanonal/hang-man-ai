{
 "cells": [
  {
   "cell_type": "markdown",
   "source": [
    "# Play Hang Man\n",
    "\n",
    "You can use this notebook to play hang man."
   ],
   "metadata": {}
  },
  {
   "cell_type": "code",
   "execution_count": null,
   "source": [
    "!pip install git+https://github.com/hakanonal/hang-man-ai.git"
   ],
   "outputs": [],
   "metadata": {}
  },
  {
   "cell_type": "code",
   "execution_count": 1,
   "source": [
    "from play import play\n",
    "play()"
   ],
   "outputs": [
    {
     "output_type": "stream",
     "name": "stdout",
     "text": [
      "_________ Left: 10 [] \n",
      "_________ Left: 9 ['a'] Go on...\n",
      "___e_____ Left: 9 ['a', 'e'] Go on...\n",
      "___e_____ Left: 8 ['a', 'e', 'b'] Go on...\n",
      "___e_____ Left: 7 ['a', 'e', 'b', 'h'] Go on...\n",
      "___e_____ Left: 6 ['a', 'e', 'b', 'h', 'r'] Go on...\n",
      "___e_____ Left: 5 ['a', 'e', 'b', 'h', 'r', 't'] Go on...\n",
      "j__e_____ Left: 5 ['a', 'e', 'b', 'h', 'r', 't', 'j'] Go on...\n",
      "j__e_____ Left: 4 ['a', 'e', 'b', 'h', 'r', 't', 'j', 'ı'] Go on...\n",
      "j__e_____ Left: 3 ['a', 'e', 'b', 'h', 'r', 't', 'j', 'ı', 'w'] Go on...\n",
      "j__e__l__ Left: 3 ['a', 'e', 'b', 'h', 'r', 't', 'j', 'ı', 'w', 'l'] Go on...\n",
      "j__e__l__ Left: 2 ['a', 'e', 'b', 'h', 'r', 't', 'j', 'ı', 'w', 'l', 'c'] Go on...\n",
      "j__e__l__ Left: 1 ['a', 'e', 'b', 'h', 'r', 't', 'j', 'ı', 'w', 'l', 'c', 'z'] Go on...\n",
      "jinekolog Left: 0 ['a', 'e', 'b', 'h', 'r', 't', 'j', 'ı', 'w', 'l', 'c', 'z', 'y'] You Lost! The word was jinekolog\n"
     ]
    }
   ],
   "metadata": {}
  }
 ],
 "metadata": {
  "orig_nbformat": 4,
  "language_info": {
   "name": "python",
   "version": "3.9.6",
   "mimetype": "text/x-python",
   "codemirror_mode": {
    "name": "ipython",
    "version": 3
   },
   "pygments_lexer": "ipython3",
   "nbconvert_exporter": "python",
   "file_extension": ".py"
  },
  "kernelspec": {
   "name": "python3",
   "display_name": "Python 3.9.6 64-bit ('hang-man-ai': pyenv)"
  },
  "interpreter": {
   "hash": "c5d34aa315b17efdc83299864f5f380040ff4d328c79aed9d9c7a174cd7dd624"
  }
 },
 "nbformat": 4,
 "nbformat_minor": 2
}