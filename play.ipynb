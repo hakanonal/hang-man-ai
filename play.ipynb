{
 "cells": [
  {
   "cell_type": "markdown",
   "source": [
    "# Play Hang Man\n",
    "\n",
    "You can use this notebook to play hang man."
   ],
   "metadata": {}
  },
  {
   "cell_type": "code",
   "execution_count": null,
   "source": [
    "!pip install git+https://github.com/hakanonal/hang-man-ai.git"
   ],
   "outputs": [],
   "metadata": {}
  },
  {
   "cell_type": "code",
   "execution_count": 1,
   "source": [
    "from main import main\n",
    "main()"
   ],
   "outputs": [
    {
     "output_type": "stream",
     "name": "stdout",
     "text": [
      "____ Left: 10 [] \n",
      "___a Left: 10 ['a'] Go on...\n",
      "___a Left: 9 ['a', 'e'] Go on...\n",
      "__la Left: 9 ['a', 'e', 'l'] Go on...\n",
      "__la Left: 8 ['a', 'e', 'l', 'k'] Go on...\n",
      "__la Left: 7 ['a', 'e', 'l', 'k', 'g'] Go on...\n",
      "__la Left: 7 ['a', 'e', 'l', 'k', 'g'] You have guessed the letter e before!\n",
      "__la Left: 6 ['a', 'e', 'l', 'k', 'g', 's'] Go on...\n",
      "__la Left: 5 ['a', 'e', 'l', 'k', 'g', 's', 'p'] Go on...\n",
      "c_la Left: 5 ['a', 'e', 'l', 'k', 'g', 's', 'p', 'c'] Go on...\n",
      "cila Left: 5 ['a', 'e', 'l', 'k', 'g', 's', 'p', 'c', 'i'] You Won!\n"
     ]
    }
   ],
   "metadata": {}
  }
 ],
 "metadata": {
  "orig_nbformat": 4,
  "language_info": {
   "name": "python",
   "version": "3.9.6",
   "mimetype": "text/x-python",
   "codemirror_mode": {
    "name": "ipython",
    "version": 3
   },
   "pygments_lexer": "ipython3",
   "nbconvert_exporter": "python",
   "file_extension": ".py"
  },
  "kernelspec": {
   "name": "python3",
   "display_name": "Python 3.9.6 64-bit ('hang-man-ai': pyenv)"
  },
  "interpreter": {
   "hash": "c5d34aa315b17efdc83299864f5f380040ff4d328c79aed9d9c7a174cd7dd624"
  }
 },
 "nbformat": 4,
 "nbformat_minor": 2
}