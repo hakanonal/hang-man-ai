{
 "cells": [
  {
   "cell_type": "markdown",
   "source": [
    "# Training an agent with Regression Network"
   ],
   "metadata": {}
  },
  {
   "cell_type": "code",
   "execution_count": null,
   "source": [
    "import wandb\n",
    "import tensorflow as tf"
   ],
   "outputs": [],
   "metadata": {}
  },
  {
   "cell_type": "code",
   "execution_count": null,
   "source": [],
   "outputs": [],
   "metadata": {}
  }
 ],
 "metadata": {
  "orig_nbformat": 4,
  "language_info": {
   "name": "python",
   "version": "3.9.6"
  },
  "kernelspec": {
   "name": "python3",
   "display_name": "Python 3.9.6 64-bit ('hang-man-ai': pyenv)"
  },
  "interpreter": {
   "hash": "c5d34aa315b17efdc83299864f5f380040ff4d328c79aed9d9c7a174cd7dd624"
  }
 },
 "nbformat": 4,
 "nbformat_minor": 2
}