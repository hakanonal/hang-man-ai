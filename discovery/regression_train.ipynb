{
 "cells": [
  {
   "cell_type": "markdown",
   "metadata": {},
   "source": [
    "# Training an agent with Regression Network\n",
    "\n",
    "So we have generated our training dataset. Now we are going to use this notebook to traing a regular logistic regression model. We have used dataiku tool extensivelly so mosy of the code here are copied from dataiku generated notebook."
   ]
  },
  {
   "cell_type": "code",
   "execution_count": 1,
   "metadata": {},
   "outputs": [
    {
     "name": "stdout",
     "output_type": "stream",
     "text": [
      "/Users/hakanonal/vscode/hang-man-ai\n"
     ]
    }
   ],
   "source": [
    "# Execute the following cell only ones. If you need to re-execute it. First restart the notebook. It is needed to access the data folder.\n",
    "%cd .."
   ]
  },
  {
   "cell_type": "code",
   "execution_count": 2,
   "metadata": {},
   "outputs": [
    {
     "data": {
      "text/html": [
       "<div>\n",
       "<style scoped>\n",
       "    .dataframe tbody tr th:only-of-type {\n",
       "        vertical-align: middle;\n",
       "    }\n",
       "\n",
       "    .dataframe tbody tr th {\n",
       "        vertical-align: top;\n",
       "    }\n",
       "\n",
       "    .dataframe thead th {\n",
       "        text-align: right;\n",
       "    }\n",
       "</style>\n",
       "<table border=\"1\" class=\"dataframe\">\n",
       "  <thead>\n",
       "    <tr style=\"text-align: right;\">\n",
       "      <th></th>\n",
       "      <th>guessed_letters</th>\n",
       "      <th>board</th>\n",
       "      <th>length</th>\n",
       "      <th>known_count</th>\n",
       "      <th>unknown_count</th>\n",
       "      <th>action_to_play</th>\n",
       "    </tr>\n",
       "  </thead>\n",
       "  <tbody>\n",
       "    <tr>\n",
       "      <th>0</th>\n",
       "      <td>NaN</td>\n",
       "      <td>_,_</td>\n",
       "      <td>2</td>\n",
       "      <td>0</td>\n",
       "      <td>0</td>\n",
       "      <td>a</td>\n",
       "    </tr>\n",
       "    <tr>\n",
       "      <th>1</th>\n",
       "      <td>a</td>\n",
       "      <td>a,_</td>\n",
       "      <td>2</td>\n",
       "      <td>1</td>\n",
       "      <td>0</td>\n",
       "      <td>z</td>\n",
       "    </tr>\n",
       "    <tr>\n",
       "      <th>2</th>\n",
       "      <td>a,z</td>\n",
       "      <td>a,_</td>\n",
       "      <td>2</td>\n",
       "      <td>1</td>\n",
       "      <td>1</td>\n",
       "      <td>r</td>\n",
       "    </tr>\n",
       "    <tr>\n",
       "      <th>3</th>\n",
       "      <td>a,z,r</td>\n",
       "      <td>a,_</td>\n",
       "      <td>2</td>\n",
       "      <td>1</td>\n",
       "      <td>2</td>\n",
       "      <td>l</td>\n",
       "    </tr>\n",
       "    <tr>\n",
       "      <th>4</th>\n",
       "      <td>a,z,r,l</td>\n",
       "      <td>a,_</td>\n",
       "      <td>2</td>\n",
       "      <td>1</td>\n",
       "      <td>3</td>\n",
       "      <td>t</td>\n",
       "    </tr>\n",
       "  </tbody>\n",
       "</table>\n",
       "</div>"
      ],
      "text/plain": [
       "  guessed_letters board  length  known_count  unknown_count action_to_play\n",
       "0             NaN   _,_       2            0              0              a\n",
       "1               a   a,_       2            1              0              z\n",
       "2             a,z   a,_       2            1              1              r\n",
       "3           a,z,r   a,_       2            1              2              l\n",
       "4         a,z,r,l   a,_       2            1              3              t"
      ]
     },
     "execution_count": 2,
     "metadata": {},
     "output_type": "execute_result"
    }
   ],
   "source": [
    "import pandas as pd\n",
    "\n",
    "ml_dataset = pd.read_csv('data/states.csv',usecols=['action_to_play', 'length', 'guessed_letters', 'known_count', 'board', 'unknown_count'])\n",
    "ml_dataset.head(5)"
   ]
  },
  {
   "cell_type": "code",
   "execution_count": 3,
   "metadata": {},
   "outputs": [],
   "source": [
    "def coerce_to_unicode(x):\n",
    "    if sys.version_info < (3, 0):\n",
    "        if isinstance(x, str):\n",
    "            return unicode(x,'utf-8')\n",
    "        else:\n",
    "            return unicode(x)\n",
    "    else:\n",
    "        return str(x)\n",
    "\n",
    "\n",
    "categorical_features = ['guessed_letters', 'board']\n",
    "numerical_features = ['length', 'known_count', 'unknown_count']\n",
    "text_features = []\n",
    "for feature in categorical_features:\n",
    "    ml_dataset[feature] = ml_dataset[feature].apply(coerce_to_unicode)\n",
    "for feature in text_features:\n",
    "    ml_dataset[feature] = ml_dataset[feature].apply(coerce_to_unicode)\n",
    "for feature in numerical_features:\n",
    "    ml_dataset[feature] = ml_dataset[feature].astype('double')"
   ]
  },
  {
   "cell_type": "code",
   "execution_count": 4,
   "metadata": {},
   "outputs": [],
   "source": [
    "target_map = {'a': 0, 'l': 1, 'ı': 2, 'k': 3, 'm': 4, 'r': 5, 'n': 6, 'e': 7, 'i': 8, 'd': 9, 't': 10, 'ç': 11, 'c': 12, 'b': 13, 's': 14, 'ş': 15, 'y': 16, 'z': 17, 'f': 18, 'ğ': 19, 'o': 20, 'u': 21, 'v': 22, 'g': 23, 'p': 24, 'h': 25, 'ü': 26, 'ö': 27, 'j': 28}\n",
    "ml_dataset['__target__'] = ml_dataset['action_to_play'].map(str).map(target_map)\n",
    "del ml_dataset['action_to_play']\n",
    "\n",
    "\n",
    "# Remove rows for which the target is unknown.\n",
    "ml_dataset = ml_dataset[~ml_dataset['__target__'].isnull()]"
   ]
  }
 ],
 "metadata": {
  "interpreter": {
   "hash": "a8a691c77d6c09a5b5655af93a738dee365ee6c75b417efc9fbd1d2e746ff470"
  },
  "kernelspec": {
   "display_name": "Python 3.9.6 64-bit ('hang-man-ai': pyenv)",
   "language": "python",
   "name": "python3"
  },
  "language_info": {
   "codemirror_mode": {
    "name": "ipython",
    "version": 3
   },
   "file_extension": ".py",
   "mimetype": "text/x-python",
   "name": "python",
   "nbconvert_exporter": "python",
   "pygments_lexer": "ipython3",
   "version": "3.9.6"
  },
  "orig_nbformat": 4
 },
 "nbformat": 4,
 "nbformat_minor": 2
}
