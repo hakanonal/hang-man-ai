{
 "cells": [
  {
   "cell_type": "markdown",
   "source": [
    "# Experimantal Cells\n",
    "\n",
    "This notebook is just to quickly experiement code siniplets. Later on they will be used in real workiing .py code."
   ],
   "metadata": {}
  },
  {
   "cell_type": "markdown",
   "source": [
    "Reading the words file into list"
   ],
   "metadata": {}
  },
  {
   "cell_type": "code",
   "execution_count": 2,
   "source": [
    "with open('data/word_list.txt') as f:\n",
    "    lines = [line.rstrip() for line in f]\n",
    "print(lines[1000])\n",
    "print(len(lines))"
   ],
   "outputs": [
    {
     "output_type": "stream",
     "name": "stdout",
     "text": [
      "agulamak\n",
      "76181\n"
     ]
    }
   ],
   "metadata": {}
  },
  {
   "cell_type": "markdown",
   "source": [
    "This is histogram of the all letters in the word list."
   ],
   "metadata": {}
  },
  {
   "cell_type": "code",
   "execution_count": 8,
   "source": [
    "import matplotlib.pyplot as plt\n",
    "import pandas as pd\n",
    "\n",
    "d = []\n",
    "for line in lines:\n",
    "    for letter in list(line):\n",
    "        if letter != ' ':\n",
    "            d.append(letter.lower())\n",
    "d.sort()            \n",
    "histogram = [(x,d.count(x)) for x in set(d)]\n",
    "sorted_histogrram = sorted(histogram, key=lambda tup: tup[1], reverse=True)\n",
    "letters, letter_counts = zip(*sorted_histogrram)\n",
    "plt.bar(letters,letter_counts)\n",
    "df = pd.DataFrame(sorted_histogrram)\n",
    "df"
   ],
   "outputs": [
    {
     "output_type": "execute_result",
     "data": {
      "text/plain": [
       "<BarContainer object of 35 artists>"
      ]
     },
     "metadata": {},
     "execution_count": 8
    },
    {
     "output_type": "stream",
     "name": "stderr",
     "text": [
      "/Users/hakanonal/.pyenv/versions/3.9.6/envs/hang-man-ai/lib/python3.9/site-packages/matplotlib/backends/backend_agg.py:240: RuntimeWarning: Glyph 133 missing from current font.\n",
      "  font.set_text(s, 0.0, flags=flags)\n",
      "/Users/hakanonal/.pyenv/versions/3.9.6/envs/hang-man-ai/lib/python3.9/site-packages/matplotlib/backends/backend_agg.py:203: RuntimeWarning: Glyph 133 missing from current font.\n",
      "  font.set_text(s, 0, flags=flags)\n"
     ]
    },
    {
     "output_type": "display_data",
     "data": {
      "text/plain": [
       "<Figure size 432x288 with 1 Axes>"
      ],
      "image/png": "[encoded data removed]"
     },
     "metadata": {
      "needs_background": "light"
     }
    }
   ],
   "metadata": {}
  },
  {
   "cell_type": "markdown",
   "source": [
    "checked how word to letters list working"
   ],
   "metadata": {}
  },
  {
   "cell_type": "code",
   "execution_count": 23,
   "source": [
    "list('aba merhaba')"
   ],
   "outputs": [
    {
     "output_type": "execute_result",
     "data": {
      "text/plain": [
       "['a', 'b', 'a', ' ', 'm', 'e', 'r', 'h', 'a', 'b', 'a']"
      ]
     },
     "metadata": {},
     "execution_count": 23
    }
   ],
   "metadata": {}
  },
  {
   "cell_type": "code",
   "execution_count": 24,
   "source": [
    "word_to_guess = 'aba merhaba'.lower()\n",
    "letters_to_guess = list(word_to_guess)\n",
    "[letter if letter == ' ' else '_' for letter in letters_to_guess]"
   ],
   "outputs": [
    {
     "output_type": "execute_result",
     "data": {
      "text/plain": [
       "['_', '_', '_', ' ', '_', '_', '_', '_', '_', '_', '_']"
      ]
     },
     "metadata": {},
     "execution_count": 24
    }
   ],
   "metadata": {}
  },
  {
   "cell_type": "markdown",
   "source": [
    "Testing the environment here"
   ],
   "metadata": {}
  },
  {
   "cell_type": "code",
   "execution_count": 25,
   "source": [
    "from environment import environment\n",
    "\n",
    "e = environment()\n",
    "e.reset()\n",
    "e.state"
   ],
   "outputs": [
    {
     "output_type": "execute_result",
     "data": {
      "text/plain": [
       "{'word_to_guess': 'kalaylanma',\n",
       " 'letters_to_guess': ['k', 'a', 'l', 'a', 'y', 'l', 'a', 'n', 'm', 'a'],\n",
       " 'guessed_letters': [],\n",
       " 'board': ['_', '_', '_', '_', '_', '_', '_', '_', '_', '_'],\n",
       " 'result': <GameResult.Playing: 0>,\n",
       " 'last_message': '',\n",
       " 'max_try': 10,\n",
       " 'try': 0}"
      ]
     },
     "metadata": {},
     "execution_count": 25
    }
   ],
   "metadata": {}
  },
  {
   "cell_type": "code",
   "execution_count": 26,
   "source": [
    "e.play('a')\n",
    "e.board()"
   ],
   "outputs": [
    {
     "output_type": "execute_result",
     "data": {
      "text/plain": [
       "'_a_a__a__a'"
      ]
     },
     "metadata": {},
     "execution_count": 26
    }
   ],
   "metadata": {}
  }
 ],
 "metadata": {
  "orig_nbformat": 4,
  "language_info": {
   "name": "python",
   "version": "3.9.6",
   "mimetype": "text/x-python",
   "codemirror_mode": {
    "name": "ipython",
    "version": 3
   },
   "pygments_lexer": "ipython3",
   "nbconvert_exporter": "python",
   "file_extension": ".py"
  },
  "kernelspec": {
   "name": "python3",
   "display_name": "Python 3.9.6 64-bit ('hang-man-ai': pyenv)"
  },
  "interpreter": {
   "hash": "c5d34aa315b17efdc83299864f5f380040ff4d328c79aed9d9c7a174cd7dd624"
  }
 },
 "nbformat": 4,
 "nbformat_minor": 2
}