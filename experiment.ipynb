{
 "cells": [
  {
   "cell_type": "markdown",
   "source": [
    "# Experimantal Cells\n",
    "\n",
    "This notebook is just to quickly experiement code siniplets. Later on they will be used in real workiing .py code."
   ],
   "metadata": {}
  },
  {
   "cell_type": "markdown",
   "source": [
    "Reading the words file into list"
   ],
   "metadata": {}
  },
  {
   "cell_type": "code",
   "execution_count": 8,
   "source": [
    "with open('data/word_list.txt') as f:\n",
    "    lines = [line.rstrip() for line in f]\n",
    "print(lines[1000])\n",
    "print(len(lines))"
   ],
   "outputs": [
    {
     "output_type": "stream",
     "name": "stdout",
     "text": [
      "agulamak\n",
      "76181\n"
     ]
    }
   ],
   "metadata": {}
  },
  {
   "cell_type": "markdown",
   "source": [
    "checked how word to letters list working"
   ],
   "metadata": {}
  },
  {
   "cell_type": "code",
   "execution_count": 10,
   "source": [
    "list('aba merhaba')"
   ],
   "outputs": [
    {
     "output_type": "execute_result",
     "data": {
      "text/plain": [
       "['a', 'b', 'a', ' ', 'm', 'e', 'r', 'h', 'a', 'b', 'a']"
      ]
     },
     "metadata": {},
     "execution_count": 10
    }
   ],
   "metadata": {}
  },
  {
   "cell_type": "code",
   "execution_count": 12,
   "source": [
    "word_to_guess = 'aba merhaba'.lower()\n",
    "letters_to_guess = list(word_to_guess)\n",
    "[letter if letter == ' ' else '_' for letter in letters_to_guess]"
   ],
   "outputs": [
    {
     "output_type": "execute_result",
     "data": {
      "text/plain": [
       "['_', '_', '_', ' ', '_', '_', '_', '_', '_', '_', '_']"
      ]
     },
     "metadata": {},
     "execution_count": 12
    }
   ],
   "metadata": {}
  },
  {
   "cell_type": "markdown",
   "source": [
    "Testing the environment here"
   ],
   "metadata": {}
  },
  {
   "cell_type": "code",
   "execution_count": 14,
   "source": [
    "from environment import environment\n",
    "\n",
    "e = environment()\n",
    "e.reset()"
   ],
   "outputs": [],
   "metadata": {}
  },
  {
   "cell_type": "code",
   "execution_count": 17,
   "source": [
    "e.play('b')\n",
    "e.state"
   ],
   "outputs": [
    {
     "output_type": "execute_result",
     "data": {
      "text/plain": [
       "{'word_to_guess': 'aba',\n",
       " 'letters_to_guess': ['a', 'b', 'a'],\n",
       " 'guessed_letters': ['ç', 'a', 'b'],\n",
       " 'board': ['a', 'b', 'a'],\n",
       " 'is_finised': True,\n",
       " 'last_message': 'You Won!',\n",
       " 'max_try': 10,\n",
       " 'try': 3}"
      ]
     },
     "metadata": {},
     "execution_count": 17
    }
   ],
   "metadata": {}
  }
 ],
 "metadata": {
  "orig_nbformat": 4,
  "language_info": {
   "name": "python",
   "version": "3.9.6",
   "mimetype": "text/x-python",
   "codemirror_mode": {
    "name": "ipython",
    "version": 3
   },
   "pygments_lexer": "ipython3",
   "nbconvert_exporter": "python",
   "file_extension": ".py"
  },
  "kernelspec": {
   "name": "python3",
   "display_name": "Python 3.9.6 64-bit ('hang-man-ai': pyenv)"
  },
  "interpreter": {
   "hash": "c5d34aa315b17efdc83299864f5f380040ff4d328c79aed9d9c7a174cd7dd624"
  }
 },
 "nbformat": 4,
 "nbformat_minor": 2
}